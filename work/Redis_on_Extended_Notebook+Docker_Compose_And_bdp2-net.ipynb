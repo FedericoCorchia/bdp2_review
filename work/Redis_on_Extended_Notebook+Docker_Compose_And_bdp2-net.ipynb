{
 "cells": [
  {
   "cell_type": "markdown",
   "id": "cb468b1e-64a0-4712-a222-d98915939c15",
   "metadata": {},
   "source": [
    "# Redis on Jupyter Extended Notebook + Docker Compose and bdp2-net already present\n",
    "This notebook tests basic Python code and Redis availability on the extended notebook when run in the Docker Compose script, with bdp2-net created previously with ```docker network create bdp2-net```."
   ]
  },
  {
   "cell_type": "code",
   "execution_count": 1,
   "id": "d0fedbf8-96a5-45b7-af00-d239fe25e62c",
   "metadata": {},
   "outputs": [],
   "source": [
    "import random"
   ]
  },
  {
   "cell_type": "code",
   "execution_count": 2,
   "id": "7a21d5f8-94be-4cd2-8ec5-560ea42a84c5",
   "metadata": {},
   "outputs": [
    {
     "data": {
      "text/plain": [
       "1"
      ]
     },
     "execution_count": 2,
     "metadata": {},
     "output_type": "execute_result"
    }
   ],
   "source": [
    "random.randint(0,10)"
   ]
  },
  {
   "cell_type": "code",
   "execution_count": 3,
   "id": "5b041b1f-be5e-4b6d-8000-f9cf73e4d3b1",
   "metadata": {},
   "outputs": [],
   "source": [
    "import redis"
   ]
  },
  {
   "cell_type": "code",
   "execution_count": 4,
   "id": "7aad4447-8e53-4c87-b758-fe9d15ea3bfe",
   "metadata": {},
   "outputs": [
    {
     "name": "stdout",
     "output_type": "stream",
     "text": [
      "b'18.5'\n"
     ]
    }
   ],
   "source": [
    "r = redis.Redis(host='my_redis')\n",
    "r.set('temperature', 18.5)\n",
    "print(r.get('temperature'))"
   ]
  },
  {
   "cell_type": "code",
   "execution_count": null,
   "id": "6dd2bea1-51f2-457e-9481-cfd0cd000b99",
   "metadata": {},
   "outputs": [],
   "source": []
  }
 ],
 "metadata": {
  "kernelspec": {
   "display_name": "Python 3 (ipykernel)",
   "language": "python",
   "name": "python3"
  },
  "language_info": {
   "codemirror_mode": {
    "name": "ipython",
    "version": 3
   },
   "file_extension": ".py",
   "mimetype": "text/x-python",
   "name": "python",
   "nbconvert_exporter": "python",
   "pygments_lexer": "ipython3",
   "version": "3.11.6"
  }
 },
 "nbformat": 4,
 "nbformat_minor": 5
}
