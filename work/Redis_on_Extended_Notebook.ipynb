{
 "cells": [
  {
   "cell_type": "markdown",
   "id": "b0c3cd40-8a1c-45ed-9b25-bdb1a1a95f93",
   "metadata": {},
   "source": [
    "# Redis on Jupyter Extended Notebook\n",
    "This notebook tests basic Python code and Redis availability on the extended notebook."
   ]
  },
  {
   "cell_type": "code",
   "execution_count": 19,
   "id": "db89b2c1-a440-4122-a8d0-bcc80cf8d431",
   "metadata": {},
   "outputs": [],
   "source": [
    "import random"
   ]
  },
  {
   "cell_type": "code",
   "execution_count": 20,
   "id": "ccf46e0a-d79d-48c1-a002-5547adcb9732",
   "metadata": {},
   "outputs": [
    {
     "data": {
      "text/plain": [
       "5"
      ]
     },
     "execution_count": 20,
     "metadata": {},
     "output_type": "execute_result"
    }
   ],
   "source": [
    "random.randint(0,10)"
   ]
  },
  {
   "cell_type": "code",
   "execution_count": 21,
   "id": "1421fc6a-8120-4533-a259-b3f389fab670",
   "metadata": {},
   "outputs": [],
   "source": [
    "import redis"
   ]
  },
  {
   "cell_type": "code",
   "execution_count": 22,
   "id": "2431e3d4-9b2b-478b-83f7-f731d13372bf",
   "metadata": {},
   "outputs": [
    {
     "name": "stdout",
     "output_type": "stream",
     "text": [
      "b'18.5'\n"
     ]
    }
   ],
   "source": [
    "r = redis.Redis(host='my_redis')\n",
    "r.set('temperature', 18.5)\n",
    "print(r.get('temperature'))"
   ]
  },
  {
   "cell_type": "code",
   "execution_count": null,
   "id": "5bc335df-9b2b-40c2-9cab-26e04568b895",
   "metadata": {},
   "outputs": [],
   "source": []
  }
 ],
 "metadata": {
  "kernelspec": {
   "display_name": "Python 3 (ipykernel)",
   "language": "python",
   "name": "python3"
  },
  "language_info": {
   "codemirror_mode": {
    "name": "ipython",
    "version": 3
   },
   "file_extension": ".py",
   "mimetype": "text/x-python",
   "name": "python",
   "nbconvert_exporter": "python",
   "pygments_lexer": "ipython3",
   "version": "3.11.6"
  }
 },
 "nbformat": 4,
 "nbformat_minor": 5
}
