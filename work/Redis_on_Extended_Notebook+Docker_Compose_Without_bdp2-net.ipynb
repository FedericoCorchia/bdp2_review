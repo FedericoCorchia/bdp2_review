{
 "cells": [
  {
   "cell_type": "markdown",
   "id": "39fc73be-db08-40b4-9e67-383fdc7c4bf7",
   "metadata": {},
   "source": [
    "# Redis on Jupyter Extended Notebook + Docker Compose without previously created bdp2-net\n",
    "This notebook tests basic Python code and Redis availability on the extended notebook when run in the Docker Compose script *without* bdp2-net being created previously with ```docker network create bdp2-net```."
   ]
  },
  {
   "cell_type": "code",
   "execution_count": 1,
   "id": "8da76d34-5362-45e8-922b-987db61c0bb9",
   "metadata": {},
   "outputs": [],
   "source": [
    "import random"
   ]
  },
  {
   "cell_type": "code",
   "execution_count": 2,
   "id": "a96afffe-94ec-4935-aac2-e6069110bab8",
   "metadata": {},
   "outputs": [
    {
     "data": {
      "text/plain": [
       "10"
      ]
     },
     "execution_count": 2,
     "metadata": {},
     "output_type": "execute_result"
    }
   ],
   "source": [
    "random.randint(0,10)"
   ]
  },
  {
   "cell_type": "code",
   "execution_count": 3,
   "id": "4cdd02a0-30c9-444f-ae1f-4e50d582b21b",
   "metadata": {},
   "outputs": [],
   "source": [
    "import redis"
   ]
  },
  {
   "cell_type": "code",
   "execution_count": 4,
   "id": "b0f09403-b27d-4848-b3c1-1594751ee962",
   "metadata": {},
   "outputs": [
    {
     "name": "stdout",
     "output_type": "stream",
     "text": [
      "b'18.5'\n"
     ]
    }
   ],
   "source": [
    "r = redis.Redis(host='my_redis')\n",
    "r.set('temperature', 18.5)\n",
    "print(r.get('temperature'))"
   ]
  },
  {
   "cell_type": "code",
   "execution_count": null,
   "id": "098795c2-e27e-4259-958f-0a18dac50b26",
   "metadata": {},
   "outputs": [],
   "source": []
  }
 ],
 "metadata": {
  "kernelspec": {
   "display_name": "Python 3 (ipykernel)",
   "language": "python",
   "name": "python3"
  },
  "language_info": {
   "codemirror_mode": {
    "name": "ipython",
    "version": 3
   },
   "file_extension": ".py",
   "mimetype": "text/x-python",
   "name": "python",
   "nbconvert_exporter": "python",
   "pygments_lexer": "ipython3",
   "version": "3.11.6"
  }
 },
 "nbformat": 4,
 "nbformat_minor": 5
}
